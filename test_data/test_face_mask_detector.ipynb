{
 "cells": [
  {
   "cell_type": "code",
   "execution_count": 11,
   "id": "e7aa2ae0",
   "metadata": {},
   "outputs": [],
   "source": [
    "from tensorflow.keras.applications.mobilenet_v2 import preprocess_input\n",
    "from tensorflow.keras.preprocessing.image import img_to_array\n",
    "from tensorflow.keras.models import load_model\n",
    "import numpy as np\n",
    "import cv2"
   ]
  },
  {
   "cell_type": "code",
   "execution_count": 12,
   "id": "265f2299",
   "metadata": {},
   "outputs": [],
   "source": [
    "prototxtPath = r'C:\\Users\\mimii\\Downloads\\caffe_model_for_dace_detection-master\\deploy.prototxt'\n",
    "weightsPath = r'C:\\Users\\mimii\\Downloads\\caffe_model_for_dace_detection-master\\res10_300x300_ssd_iter_140000.caffemodel'"
   ]
  },
  {
   "cell_type": "code",
   "execution_count": 13,
   "id": "6b45eaeb",
   "metadata": {},
   "outputs": [],
   "source": [
    "face_net = cv2.dnn.readNet(prototxtPath, weightsPath)"
   ]
  },
  {
   "cell_type": "code",
   "execution_count": 14,
   "id": "51826fa3",
   "metadata": {},
   "outputs": [],
   "source": [
    "model = load_model(r'C:\\Users\\mimii\\Downloads\\face_mask_detector_model')"
   ]
  },
  {
   "cell_type": "code",
   "execution_count": 18,
   "id": "87ba25ce",
   "metadata": {},
   "outputs": [
    {
     "name": "stdout",
     "output_type": "stream",
     "text": [
      "choose a photo:\n",
      " mask_1.png\n",
      " mask_2.png\n",
      " mask_3.png\n",
      " mask_4.png\n",
      " mask_5.png\n",
      " mask_6.png\n",
      " mask_7.png\n",
      " mask_8.png\n",
      " mask_9.png\n",
      " mask_10.png\n",
      " mask_11.png\n",
      " mask_12.png\n",
      " no_mask_1.png\n",
      " no_mask_2.png\n",
      " no_mask_3.png\n",
      " no_mask_4.png\n",
      " no_mask_5.png\n",
      " no_mask_6.png\n",
      " no_mask_7.png\n",
      " no_mask_8.png\n",
      " no_mask_9.png\n",
      " no_mask_10.png\n",
      " no_mask_11.png\n",
      " no_mask_12.png\n",
      " no_face1.png\n",
      " no_face.webp\n",
      "no_face.webp\n"
     ]
    }
   ],
   "source": [
    "photo = input (\"choose a photo:\\n mask_1.png\\n mask_2.png\\n mask_3.png\\n mask_4.png\\n mask_5.png\\n mask_6.png\\n mask_7.png\\n mask_8.png\\n mask_9.png\\n mask_10.png\\n mask_11.png\\n mask_12.png\\n no_mask_1.png\\n no_mask_2.png\\n no_mask_3.png\\n no_mask_4.png\\n no_mask_5.png\\n no_mask_6.png\\n no_mask_7.png\\n no_mask_8.png\\n no_mask_9.png\\n no_mask_10.png\\n no_mask_11.png\\n no_mask_12.png\\n no_face1.png\\n no_face.webp\\n\")\n",
    "image = cv2.imread(photo)"
   ]
  },
  {
   "cell_type": "code",
   "execution_count": 19,
   "id": "f4366787",
   "metadata": {},
   "outputs": [
    {
     "data": {
      "text/plain": [
       "(333, 500, 3)"
      ]
     },
     "execution_count": 19,
     "metadata": {},
     "output_type": "execute_result"
    }
   ],
   "source": [
    "image.shape"
   ]
  },
  {
   "cell_type": "code",
   "execution_count": 20,
   "id": "0c314daf",
   "metadata": {},
   "outputs": [],
   "source": [
    "#we need height and width\n",
    "(height, width) = image.shape[:2]"
   ]
  },
  {
   "cell_type": "code",
   "execution_count": 21,
   "id": "69ad8e5c",
   "metadata": {},
   "outputs": [],
   "source": [
    "blob = cv2.dnn.blobFromImage(image, 1.0, (224, 244), (104.0, 177.0, 123.0))"
   ]
  },
  {
   "cell_type": "code",
   "execution_count": 22,
   "id": "e819e0c2",
   "metadata": {},
   "outputs": [
    {
     "data": {
      "text/plain": [
       "(1, 3, 244, 224)"
      ]
     },
     "execution_count": 22,
     "metadata": {},
     "output_type": "execute_result"
    }
   ],
   "source": [
    "blob.shape"
   ]
  },
  {
   "cell_type": "code",
   "execution_count": 23,
   "id": "230db953",
   "metadata": {},
   "outputs": [],
   "source": [
    "face_net.setInput(blob)\n",
    "face_detect = face_net.forward()"
   ]
  },
  {
   "cell_type": "code",
   "execution_count": 24,
   "id": "e6ae3a18",
   "metadata": {},
   "outputs": [],
   "source": [
    "confidence = face_detect[0, 0, 0, 2]\n",
    "if confidence > 0.5:\n",
    "    rect = face_detect[0, 0, 0, 3:7] * np.array([width, height, width, height])\n",
    "    (startX, startY, endX, endY) = rect.astype('int')\n",
    "    face = image[startY:endY, startX:endX]\n",
    "    face = cv2.cvtColor(face, cv2.COLOR_BGR2RGB)\n",
    "    face = cv2.resize(face, (224, 224))\n",
    "    face = img_to_array(face)\n",
    "    face = preprocess_input(face)\n",
    "    face=np.expand_dims(face,axis=0)\n",
    "    p = model.predict(face)\n",
    "    mask =p[0][0]\n",
    "    no_mask = p[0][1]\n",
    "    if mask > no_mask :\n",
    "        label='Mask'\n",
    "        color=(255,255,255)\n",
    "    else :\n",
    "        label='No Mask'\n",
    "        color=(0,0,0)\n",
    "    cv2.putText(image,label,(startX,startY),cv2.FONT_HERSHEY_SIMPLEX,1,color,2)\n",
    "    cv2.rectangle(image,(startX,startY),(endX,endY),color,2)\n",
    "        \n",
    "cv2.imshow(\"image\",image)\n",
    "cv2.waitKey(0)\n",
    "cv2.destroyAllWindows()\n",
    "    \n",
    "\n"
   ]
  },
  {
   "cell_type": "code",
   "execution_count": null,
   "id": "138ba8b9",
   "metadata": {},
   "outputs": [],
   "source": []
  }
 ],
 "metadata": {
  "kernelspec": {
   "display_name": "Python 3 (ipykernel)",
   "language": "python",
   "name": "python3"
  },
  "language_info": {
   "codemirror_mode": {
    "name": "ipython",
    "version": 3
   },
   "file_extension": ".py",
   "mimetype": "text/x-python",
   "name": "python",
   "nbconvert_exporter": "python",
   "pygments_lexer": "ipython3",
   "version": "3.9.7"
  }
 },
 "nbformat": 4,
 "nbformat_minor": 5
}
